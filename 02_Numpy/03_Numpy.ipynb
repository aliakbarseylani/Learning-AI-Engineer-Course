{
 "cells": [
  {
   "cell_type": "code",
   "execution_count": 1,
   "id": "4866d3e7-4e03-41ad-bbd2-28bc9966a6d4",
   "metadata": {},
   "outputs": [],
   "source": [
    "import numpy as np"
   ]
  },
  {
   "cell_type": "markdown",
   "id": "1e6899c7-2627-4b3f-b5c0-d5b0d9fb9999",
   "metadata": {},
   "source": [
    "## View"
   ]
  },
  {
   "cell_type": "code",
   "execution_count": 2,
   "id": "1f828875-9158-42c1-bd38-6ae04169fe76",
   "metadata": {},
   "outputs": [],
   "source": [
    "a = np.array([\n",
    "    [1, 2, 4],\n",
    "    [4, 5, 6]\n",
    "])"
   ]
  },
  {
   "cell_type": "code",
   "execution_count": 3,
   "id": "2fc1efde-a679-456a-a4d7-e15915b7623f",
   "metadata": {},
   "outputs": [
    {
     "data": {
      "text/plain": [
       "2"
      ]
     },
     "execution_count": 3,
     "metadata": {},
     "output_type": "execute_result"
    }
   ],
   "source": [
    "a.ndim"
   ]
  },
  {
   "cell_type": "code",
   "execution_count": 4,
   "id": "cce732e3-65af-422a-825a-5f91d38ebca4",
   "metadata": {},
   "outputs": [
    {
     "data": {
      "text/plain": [
       "array([[1, 2],\n",
       "       [4, 5]])"
      ]
     },
     "execution_count": 4,
     "metadata": {},
     "output_type": "execute_result"
    }
   ],
   "source": [
    "b = a[0:, 0:2]\n",
    "b"
   ]
  },
  {
   "cell_type": "code",
   "execution_count": 6,
   "id": "64bdf0dc-7e73-4953-b008-2bc59839b6a2",
   "metadata": {},
   "outputs": [
    {
     "data": {
      "text/plain": [
       "array([[0, 2],\n",
       "       [4, 5]])"
      ]
     },
     "execution_count": 6,
     "metadata": {},
     "output_type": "execute_result"
    }
   ],
   "source": [
    "b[0, 0] = 0\n",
    "b"
   ]
  },
  {
   "cell_type": "code",
   "execution_count": 7,
   "id": "8eb51023-6576-4f67-a4b1-88a337c7accb",
   "metadata": {},
   "outputs": [
    {
     "data": {
      "text/plain": [
       "array([[1, 2],\n",
       "       [4, 5]])"
      ]
     },
     "execution_count": 7,
     "metadata": {},
     "output_type": "execute_result"
    }
   ],
   "source": [
    "b[0, 0] = b[0, 0] + 1\n",
    "b"
   ]
  },
  {
   "cell_type": "code",
   "execution_count": 8,
   "id": "03890dbb-397c-4352-852c-6bb9975539ae",
   "metadata": {},
   "outputs": [
    {
     "data": {
      "text/plain": [
       "array([[1, 2, 4],\n",
       "       [4, 5, 6]])"
      ]
     },
     "execution_count": 8,
     "metadata": {},
     "output_type": "execute_result"
    }
   ],
   "source": [
    "a"
   ]
  },
  {
   "cell_type": "markdown",
   "id": "a0b8a4fb-e6ec-4ee5-90ac-7a78245d3143",
   "metadata": {},
   "source": [
    "## Copy"
   ]
  },
  {
   "cell_type": "code",
   "execution_count": 10,
   "id": "1a4bd9a6-e678-45f6-881d-27a80c43c58f",
   "metadata": {},
   "outputs": [
    {
     "name": "stdout",
     "output_type": "stream",
     "text": [
      "[[0 2]\n",
      " [4 5]]\n",
      "[[1 2 3]\n",
      " [4 5 6]]\n"
     ]
    }
   ],
   "source": [
    "a = np.array([\n",
    "    [1, 2, 3],\n",
    "    [4, 5, 6]\n",
    "])\n",
    "b = a[0:, 0:2].copy()\n",
    "b[0, 0] = 0\n",
    "\n",
    "print(b)\n",
    "print(a)"
   ]
  },
  {
   "cell_type": "code",
   "execution_count": null,
   "id": "b6ef2287-98ec-4665-a0ab-d99fcb6fd748",
   "metadata": {},
   "outputs": [],
   "source": []
  },
  {
   "cell_type": "code",
   "execution_count": 12,
   "id": "2cab1250-6532-4ee2-a41e-9e77b3f97544",
   "metadata": {},
   "outputs": [
    {
     "data": {
      "text/plain": [
       "array([[0, 2],\n",
       "       [4, 5]])"
      ]
     },
     "execution_count": 12,
     "metadata": {},
     "output_type": "execute_result"
    }
   ],
   "source": [
    "b"
   ]
  },
  {
   "cell_type": "markdown",
   "id": "d369ab71-d51b-4005-8a7d-cbb6e6e3aa1b",
   "metadata": {},
   "source": [
    "## Sum"
   ]
  },
  {
   "cell_type": "code",
   "execution_count": 13,
   "id": "2fc7e894-d0d3-4bea-920d-ca2456564ded",
   "metadata": {},
   "outputs": [
    {
     "data": {
      "text/plain": [
       "np.int64(21)"
      ]
     },
     "execution_count": 13,
     "metadata": {},
     "output_type": "execute_result"
    }
   ],
   "source": [
    "a = np.array([[1, 2, 3],\n",
    "              [4, 5, 6]])\n",
    "t = np.sum(a)\n",
    "t"
   ]
  },
  {
   "cell_type": "code",
   "execution_count": 32,
   "id": "6802d760-7abd-4965-83d4-d9548590ebaa",
   "metadata": {},
   "outputs": [
    {
     "data": {
      "text/plain": [
       "array([5, 7, 9])"
      ]
     },
     "execution_count": 32,
     "metadata": {},
     "output_type": "execute_result"
    }
   ],
   "source": [
    "v = np.sum(a, axis=0) #axis=0 --> columns\n",
    "v"
   ]
  },
  {
   "cell_type": "code",
   "execution_count": 16,
   "id": "0a1a45d3-e572-4d4a-af51-05166872ad98",
   "metadata": {},
   "outputs": [
    {
     "data": {
      "text/plain": [
       "array([ 6, 15])"
      ]
     },
     "execution_count": 16,
     "metadata": {},
     "output_type": "execute_result"
    }
   ],
   "source": [
    "h = np.sum(a, axis=1) #axis=1 --> rows\n",
    "h"
   ]
  },
  {
   "cell_type": "markdown",
   "id": "d5681d5c-f043-43dc-a063-59fed583dbea",
   "metadata": {},
   "source": [
    "## Mean"
   ]
  },
  {
   "cell_type": "code",
   "execution_count": 18,
   "id": "27a05ba9-54e6-4a87-875c-3cc3cc4deaef",
   "metadata": {},
   "outputs": [
    {
     "data": {
      "text/plain": [
       "np.float64(2.0)"
      ]
     },
     "execution_count": 18,
     "metadata": {},
     "output_type": "execute_result"
    }
   ],
   "source": [
    "k = np.array([1, 2, 3])\n",
    "average = np.mean(k)\n",
    "average"
   ]
  },
  {
   "cell_type": "code",
   "execution_count": 21,
   "id": "e38edb49-2a91-491d-9b0e-e0dbfd7a2592",
   "metadata": {},
   "outputs": [
    {
     "data": {
      "text/plain": [
       "np.float64(3.5)"
      ]
     },
     "execution_count": 21,
     "metadata": {},
     "output_type": "execute_result"
    }
   ],
   "source": [
    "u = np.array([[1, 2, 3],\n",
    "              [4, 5, 6]])\n",
    "avg_2d = np.mean(u) # (1+2+3+4+5+6)/6\n",
    "avg_2d"
   ]
  },
  {
   "cell_type": "code",
   "execution_count": 22,
   "id": "447da07f-95a5-46b5-ad3c-b325ab6908d6",
   "metadata": {},
   "outputs": [
    {
     "data": {
      "text/plain": [
       "array([2.5, 3.5, 4.5])"
      ]
     },
     "execution_count": 22,
     "metadata": {},
     "output_type": "execute_result"
    }
   ],
   "source": [
    "avg_2d_col_mean = np.mean(u, axis=0)\n",
    "avg_2d_col_mean # (1+4)/2 : 2.5"
   ]
  },
  {
   "cell_type": "code",
   "execution_count": 24,
   "id": "bee3bfda-23fe-4ba4-b246-5bbc8988ec18",
   "metadata": {},
   "outputs": [
    {
     "data": {
      "text/plain": [
       "array([[[ 1,  2,  3],\n",
       "        [ 4,  5,  6]],\n",
       "\n",
       "       [[11, 12, 13],\n",
       "        [14, 15, 16]]])"
      ]
     },
     "execution_count": 24,
     "metadata": {},
     "output_type": "execute_result"
    }
   ],
   "source": [
    "m_3d = np.array([\n",
    "    [[1, 2, 3], [4, 5, 6]],\n",
    "    [[11, 12, 13], [14, 15, 16]]\n",
    "])\n",
    "m_3d"
   ]
  },
  {
   "cell_type": "code",
   "execution_count": 25,
   "id": "9432c994-8433-4ebb-9abe-583ca3283556",
   "metadata": {},
   "outputs": [
    {
     "data": {
      "text/plain": [
       "3"
      ]
     },
     "execution_count": 25,
     "metadata": {},
     "output_type": "execute_result"
    }
   ],
   "source": [
    "m_3d.ndim"
   ]
  },
  {
   "cell_type": "code",
   "execution_count": 26,
   "id": "780537c3-a9ba-4956-94a9-a4f4feb35078",
   "metadata": {},
   "outputs": [
    {
     "data": {
      "text/plain": [
       "(2, 2, 3)"
      ]
     },
     "execution_count": 26,
     "metadata": {},
     "output_type": "execute_result"
    }
   ],
   "source": [
    "m_3d.shape"
   ]
  },
  {
   "cell_type": "code",
   "execution_count": 27,
   "id": "41754598-dede-4e11-ab18-f802c45637f2",
   "metadata": {},
   "outputs": [
    {
     "data": {
      "text/plain": [
       "np.float64(8.5)"
      ]
     },
     "execution_count": 27,
     "metadata": {},
     "output_type": "execute_result"
    }
   ],
   "source": [
    "avg_3d = np.mean(m_3d)\n",
    "avg_3d"
   ]
  },
  {
   "cell_type": "code",
   "execution_count": 30,
   "id": "153895d1-9a14-416d-bb4a-9ffc612eea2d",
   "metadata": {},
   "outputs": [
    {
     "data": {
      "text/plain": [
       "array([[ 6.,  7.,  8.],\n",
       "       [ 9., 10., 11.]])"
      ]
     },
     "execution_count": 30,
     "metadata": {},
     "output_type": "execute_result"
    }
   ],
   "source": [
    "avg_3d_axis0 = np.mean(m_3d, axis=0)\n",
    "avg_3d_axis0"
   ]
  },
  {
   "cell_type": "code",
   "execution_count": 31,
   "id": "963c105b-f0e6-4a16-8da6-4aa2d3c01d5c",
   "metadata": {},
   "outputs": [
    {
     "data": {
      "text/plain": [
       "array([[ 2.,  5.],\n",
       "       [12., 15.]])"
      ]
     },
     "execution_count": 31,
     "metadata": {},
     "output_type": "execute_result"
    }
   ],
   "source": [
    "avg_3d_axis2 = np.mean(m_3d, axis=2)\n",
    "avg_3d_axis2"
   ]
  },
  {
   "cell_type": "markdown",
   "id": "c397603e-70e0-4348-b607-f5c5fa06e360",
   "metadata": {},
   "source": [
    "## Var (variance is a fundamental measure that quantifies the spread of a set of numbers.)"
   ]
  },
  {
   "cell_type": "code",
   "execution_count": 33,
   "id": "d3be27d5-818f-47e7-bd02-d8db68cb5f0b",
   "metadata": {},
   "outputs": [
    {
     "data": {
      "text/plain": [
       "np.float64(0.6666666666666666)"
      ]
     },
     "execution_count": 33,
     "metadata": {},
     "output_type": "execute_result"
    }
   ],
   "source": [
    "g = np.array([1, 2, 3])\n",
    "var_g = np.var(g)\n",
    "var_g"
   ]
  },
  {
   "cell_type": "markdown",
   "id": "c48b0b5f-c365-4484-a281-197591bc1b91",
   "metadata": {},
   "source": [
    "## Std (Standard Deviation)(calculates the NumPy standard deviation of given data along a specified axis.)"
   ]
  },
  {
   "cell_type": "code",
   "execution_count": 34,
   "id": "2bb2669e-388a-475f-a355-6182d9b06dda",
   "metadata": {},
   "outputs": [
    {
     "data": {
      "text/plain": [
       "np.float64(0.816496580927726)"
      ]
     },
     "execution_count": 34,
     "metadata": {},
     "output_type": "execute_result"
    }
   ],
   "source": [
    "h = np.array([14, 15, 16])\n",
    "std_h = np.std(h)\n",
    "std_h"
   ]
  },
  {
   "cell_type": "markdown",
   "id": "d7b89dcf-c582-496c-890c-5d1a0c7f2551",
   "metadata": {},
   "source": [
    "## Prod (used to calculate the product of array elements over a specified axis.)"
   ]
  },
  {
   "cell_type": "code",
   "execution_count": 36,
   "id": "d0f052f1-5d25-4342-84aa-5e5dfcc6cce5",
   "metadata": {},
   "outputs": [
    {
     "data": {
      "text/plain": [
       "np.int64(3360)"
      ]
     },
     "execution_count": 36,
     "metadata": {},
     "output_type": "execute_result"
    }
   ],
   "source": [
    "h = np.array([14, 15, 16])\n",
    "prod_h = np.prod(h)\n",
    "prod_h"
   ]
  },
  {
   "cell_type": "markdown",
   "id": "0e27b01c-0796-44a5-8ab4-69b76c1bda71",
   "metadata": {},
   "source": [
    "## Min / Max"
   ]
  },
  {
   "cell_type": "code",
   "execution_count": 37,
   "id": "e3219631-cd44-4545-84d2-4f4a7fe5a15e",
   "metadata": {},
   "outputs": [
    {
     "data": {
      "text/plain": [
       "np.int64(14)"
      ]
     },
     "execution_count": 37,
     "metadata": {},
     "output_type": "execute_result"
    }
   ],
   "source": [
    "h = np.array([14, 15, 16])\n",
    "h_min = np.min(h)\n",
    "h_min"
   ]
  },
  {
   "cell_type": "code",
   "execution_count": 38,
   "id": "15a153c0-b04d-4df7-92e9-43ed28060599",
   "metadata": {},
   "outputs": [
    {
     "data": {
      "text/plain": [
       "np.int64(16)"
      ]
     },
     "execution_count": 38,
     "metadata": {},
     "output_type": "execute_result"
    }
   ],
   "source": [
    "h_max = np.max(h)\n",
    "h_max"
   ]
  },
  {
   "cell_type": "code",
   "execution_count": 39,
   "id": "6f77902b-64fd-4d39-940d-0a4ab31c5560",
   "metadata": {},
   "outputs": [
    {
     "name": "stdout",
     "output_type": "stream",
     "text": [
      "16\n",
      "1\n"
     ]
    }
   ],
   "source": [
    "m_3d = np.array([\n",
    "    [[1, 2, 3], [4, 5, 6]],\n",
    "    [[11, 12, 13], [14, 15, 16]]\n",
    "])\n",
    "\n",
    "print(np.max(m_3d))\n",
    "print(np.min(m_3d))"
   ]
  },
  {
   "cell_type": "code",
   "execution_count": 40,
   "id": "33d449ac-6d51-4221-a80c-14f2f62ca613",
   "metadata": {},
   "outputs": [
    {
     "name": "stdout",
     "output_type": "stream",
     "text": [
      "[[11 12 13]\n",
      " [14 15 16]]\n",
      "1\n"
     ]
    }
   ],
   "source": [
    "m_3d = np.array([\n",
    "    [[1, 2, 3], [4, 5, 6]],\n",
    "    [[11, 12, 13], [14, 15, 16]]\n",
    "])\n",
    "\n",
    "print(np.amax(m_3d , axis = 0))\n",
    "print(np.amin(m_3d))"
   ]
  },
  {
   "cell_type": "code",
   "execution_count": 41,
   "id": "ce719801-cbf0-4d40-b639-29544ebbe0d3",
   "metadata": {},
   "outputs": [
    {
     "data": {
      "text/plain": [
       "array([4, 2, 3])"
      ]
     },
     "execution_count": 41,
     "metadata": {},
     "output_type": "execute_result"
    }
   ],
   "source": [
    "u = np.array([[1, 2, 3],\n",
    "              [4, 0, 0]])\n",
    "np.amax(u, axis=0)\n",
    "#4\n",
    "#3\n",
    "#2"
   ]
  },
  {
   "cell_type": "code",
   "execution_count": 42,
   "id": "97061dd8-64b5-4a25-bf30-041a0cfc10e5",
   "metadata": {},
   "outputs": [
    {
     "data": {
      "text/plain": [
       "array([3, 4])"
      ]
     },
     "execution_count": 42,
     "metadata": {},
     "output_type": "execute_result"
    }
   ],
   "source": [
    "u = np.array([[1, 2, 3],\n",
    "              [4, 0, 0]])\n",
    "np.amax(u, axis=1)\n"
   ]
  },
  {
   "cell_type": "code",
   "execution_count": null,
   "id": "c09a1da6-e756-48f1-a12b-4a8ada8b7420",
   "metadata": {},
   "outputs": [],
   "source": [
    "# The End"
   ]
  }
 ],
 "metadata": {
  "kernelspec": {
   "display_name": "Python [conda env:base] *",
   "language": "python",
   "name": "conda-base-py"
  },
  "language_info": {
   "codemirror_mode": {
    "name": "ipython",
    "version": 3
   },
   "file_extension": ".py",
   "mimetype": "text/x-python",
   "name": "python",
   "nbconvert_exporter": "python",
   "pygments_lexer": "ipython3",
   "version": "3.13.5"
  }
 },
 "nbformat": 4,
 "nbformat_minor": 5
}
